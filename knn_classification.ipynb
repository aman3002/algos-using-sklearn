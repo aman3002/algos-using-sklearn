{
  "nbformat": 4,
  "nbformat_minor": 0,
  "metadata": {
    "colab": {
      "provenance": [],
      "authorship_tag": "ABX9TyMhKTfWpOEP47ScNC4dkf0V",
      "include_colab_link": true
    },
    "kernelspec": {
      "name": "python3",
      "display_name": "Python 3"
    },
    "language_info": {
      "name": "python"
    }
  },
  "cells": [
    {
      "cell_type": "markdown",
      "metadata": {
        "id": "view-in-github",
        "colab_type": "text"
      },
      "source": [
        "<a href=\"https://colab.research.google.com/github/aman3002/aman3002/blob/main/knn_classification.ipynb\" target=\"_parent\"><img src=\"https://colab.research.google.com/assets/colab-badge.svg\" alt=\"Open In Colab\"/></a>"
      ]
    },
    {
      "cell_type": "markdown",
      "source": [],
      "metadata": {
        "id": "E8yAMMGNnnxU"
      }
    },
    {
      "cell_type": "markdown",
      "source": [
        "IMPORTING THE DATASET AND DEPENDENCIES"
      ],
      "metadata": {
        "id": "kfoiHT4Bnqsv"
      }
    },
    {
      "cell_type": "code",
      "execution_count": null,
      "metadata": {
        "colab": {
          "base_uri": "https://localhost:8080/"
        },
        "id": "qv1FDx-oi45f",
        "outputId": "2338e132-ac4d-4a47-9fac-03b33d45004f"
      },
      "outputs": [
        {
          "output_type": "stream",
          "name": "stdout",
          "text": [
            "      battery_power  blue  clock_speed  dual_sim  fc  four_g  int_memory  \\\n",
            "0               842     0          2.2         0   1       0           7   \n",
            "1              1021     1          0.5         1   0       1          53   \n",
            "2               563     1          0.5         1   2       1          41   \n",
            "3               615     1          2.5         0   0       0          10   \n",
            "4              1821     1          1.2         0  13       1          44   \n",
            "...             ...   ...          ...       ...  ..     ...         ...   \n",
            "1995            794     1          0.5         1   0       1           2   \n",
            "1996           1965     1          2.6         1   0       0          39   \n",
            "1997           1911     0          0.9         1   1       1          36   \n",
            "1998           1512     0          0.9         0   4       1          46   \n",
            "1999            510     1          2.0         1   5       1          45   \n",
            "\n",
            "      m_dep  mobile_wt  n_cores  ...  px_height  px_width   ram  sc_h  sc_w  \\\n",
            "0       0.6        188        2  ...         20       756  2549     9     7   \n",
            "1       0.7        136        3  ...        905      1988  2631    17     3   \n",
            "2       0.9        145        5  ...       1263      1716  2603    11     2   \n",
            "3       0.8        131        6  ...       1216      1786  2769    16     8   \n",
            "4       0.6        141        2  ...       1208      1212  1411     8     2   \n",
            "...     ...        ...      ...  ...        ...       ...   ...   ...   ...   \n",
            "1995    0.8        106        6  ...       1222      1890   668    13     4   \n",
            "1996    0.2        187        4  ...        915      1965  2032    11    10   \n",
            "1997    0.7        108        8  ...        868      1632  3057     9     1   \n",
            "1998    0.1        145        5  ...        336       670   869    18    10   \n",
            "1999    0.9        168        6  ...        483       754  3919    19     4   \n",
            "\n",
            "      talk_time  three_g  touch_screen  wifi  price_range  \n",
            "0            19        0             0     1            1  \n",
            "1             7        1             1     0            2  \n",
            "2             9        1             1     0            2  \n",
            "3            11        1             0     0            2  \n",
            "4            15        1             1     0            1  \n",
            "...         ...      ...           ...   ...          ...  \n",
            "1995         19        1             1     0            0  \n",
            "1996         16        1             1     1            2  \n",
            "1997          5        1             1     0            3  \n",
            "1998         19        1             1     1            0  \n",
            "1999          2        1             1     1            3  \n",
            "\n",
            "[2000 rows x 21 columns]\n",
            "[[2549]\n",
            " [2631]\n",
            " [2603]\n",
            " ...\n",
            " [3057]\n",
            " [ 869]\n",
            " [3919]]\n",
            "(2000, 1) (2000, 1)\n"
          ]
        },
        {
          "output_type": "execute_result",
          "data": {
            "text/plain": [
              "0.8122960657923983"
            ]
          },
          "metadata": {},
          "execution_count": 32
        }
      ],
      "source": [
        ", KNeighborsRegressor\n",
        "from collections.abc import ValuesView\n",
        "import os \n",
        "from sklearn.metrics import accuracy_score\n",
        "import numpy as np\n",
        "import pandas as pd\n",
        "from sklearn.preprocessing import StandardScaler\n",
        "import matplotlib.pyplot as plt\n",
        "from sklearn.model_selection import train_test_split\n",
        "from sklearn.neighbors import KNeighborsRegressor\n",
        "a=pd.read_csv(\"/content/train.csv\")\n",
        "print(a)\n",
        "b=KNeighborsRegressor(5)\n",
        "x_tr=a[[\"ram\"]].values\n",
        "print(x_tr)\n",
        "y=a.iloc[:,-1]\n",
        "\n",
        "y_tr=y.values.reshape(-1,1)\n",
        "print(x_tr.shape,y_tr.shape)\n",
        "z=StandardScaler()\n",
        "r=z.fit_transform(x_tr)\n",
        "t=z.fit_transform(y_tr)\n",
        "\n",
        "x_tra,x_test,y_tra,y_test=train_test_split(r,t,test_size=9/10)\n",
        "b.fit(x_tra,y_tra)\n",
        "h=b.predict(x_test)\n",
        "(y_test,h)\n",
        "b.score(x_test,y_test)\n",
        "\n"
      ]
    },
    {
      "cell_type": "code",
      "source": [
        "import os \n",
        "import sklearn"
      ],
      "metadata": {
        "id": "SpyS_DQZmC5j"
      },
      "execution_count": null,
      "outputs": []
    },
    {
      "cell_type": "code",
      "source": [],
      "metadata": {
        "id": "spvc5MqcmDyA"
      },
      "execution_count": null,
      "outputs": []
    }
  ]
}