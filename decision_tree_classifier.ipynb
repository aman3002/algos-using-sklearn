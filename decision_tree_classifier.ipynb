{
  "nbformat": 4,
  "nbformat_minor": 0,
  "metadata": {
    "colab": {
      "provenance": [],
      "authorship_tag": "ABX9TyPyQ9AX9n6TEaBzj9bG6+OY",
      "include_colab_link": true
    },
    "kernelspec": {
      "name": "python3",
      "display_name": "Python 3"
    },
    "language_info": {
      "name": "python"
    }
  },
  "cells": [
    {
      "cell_type": "markdown",
      "metadata": {
        "id": "view-in-github",
        "colab_type": "text"
      },
      "source": [
        "<a href=\"https://colab.research.google.com/github/aman3002/aman3002/blob/main/decision_tree_classifier.ipynb\" target=\"_parent\"><img src=\"https://colab.research.google.com/assets/colab-badge.svg\" alt=\"Open In Colab\"/></a>"
      ]
    },
    {
      "cell_type": "code",
      "execution_count": 24,
      "metadata": {
        "colab": {
          "base_uri": "https://localhost:8080/"
        },
        "id": "qG_rVcJrLM6g",
        "outputId": "e17f4861-1a0e-4979-ecda-e158ce276cea"
      },
      "outputs": [
        {
          "output_type": "stream",
          "name": "stdout",
          "text": [
            "   Kyphosis  Age  Number  Start\n",
            "0    absent   71       3      5\n",
            "1    absent  158       3     14\n",
            "2   present  128       4      5\n",
            "3    absent    2       5      1\n",
            "4    absent    1       4     15\n",
            "..      ...  ...     ...    ...\n",
            "76  present  157       3     13\n",
            "77   absent   26       7     13\n",
            "78   absent  120       2     13\n",
            "79  present   42       7      6\n",
            "80   absent   36       4     13\n",
            "\n",
            "[81 rows x 4 columns]\n",
            "    Age  Number  Start  Kyphosis_absent  Kyphosis_present\n",
            "0    71       3      5                1                 0\n",
            "1   158       3     14                1                 0\n",
            "2   128       4      5                0                 1\n",
            "3     2       5      1                1                 0\n",
            "4     1       4     15                1                 0\n",
            "..  ...     ...    ...              ...               ...\n",
            "76  157       3     13                0                 1\n",
            "77   26       7     13                1                 0\n",
            "78  120       2     13                1                 0\n",
            "79   42       7      6                0                 1\n",
            "80   36       4     13                1                 0\n",
            "\n",
            "[81 rows x 5 columns]\n",
            "(81, 4) (81, 2)\n",
            "1.0\n"
          ]
        }
      ],
      "source": [
        "from sklearn.metrics import accuracy_score\n",
        "import os \n",
        "import matplotlib.pyplot as plt\n",
        "import numpy as np\n",
        "import pandas as pd\n",
        "from sklearn.metrics import confusion_matrix,ConfusionMatrixDisplay\n",
        "from sklearn.tree import DecisionTreeClassifier\n",
        "from sklearn.model_selection import train_test_split\n",
        "a=pd.read_csv(\"/content/kyphosis.csv\")\n",
        "l=pd.get_dummies(a)\n",
        "print(a)\n",
        "print(l)\n",
        "x=l.iloc[:,0:4].values\n",
        "y=l.iloc[:,3:5].values\n",
        "d=DecisionTreeClassifier()\n",
        "print(x.shape,y.shape)\n",
        "x_train,x_test,y_train,y_test=train_test_split(x,y,test_size=0.2)\n",
        "d.fit(x_train,y_train)\n",
        "p=d.predict(x_test)\n",
        "print(accuracy_score(p,y_test))"
      ]
    },
    {
      "cell_type": "code",
      "source": [
        " import os \n",
        "import sklearn"
      ],
      "metadata": {
        "id": "nS-0txN_Lusu"
      },
      "execution_count": 22,
      "outputs": []
    },
    {
      "cell_type": "code",
      "source": [
        "\n",
        "pwd"
      ],
      "metadata": {
        "colab": {
          "base_uri": "https://localhost:8080/",
          "height": 35
        },
        "id": "FPROWbSQLxj4",
        "outputId": "e99525c5-9169-4c04-c148-d706d6d0a86c"
      },
      "execution_count": null,
      "outputs": [
        {
          "output_type": "execute_result",
          "data": {
            "text/plain": [
              "'/content'"
            ],
            "application/vnd.google.colaboratory.intrinsic+json": {
              "type": "string"
            }
          },
          "metadata": {},
          "execution_count": 21
        }
      ]
    },
    {
      "cell_type": "code",
      "source": [],
      "metadata": {
        "id": "qjuZXQGbMsKa"
      },
      "execution_count": null,
      "outputs": []
    }
  ]
}